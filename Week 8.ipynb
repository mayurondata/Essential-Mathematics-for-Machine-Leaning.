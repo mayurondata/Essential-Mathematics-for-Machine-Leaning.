{
 "cells": [
  {
   "cell_type": "code",
   "execution_count": 1,
   "id": "226afae1",
   "metadata": {},
   "outputs": [
    {
     "name": "stdout",
     "output_type": "stream",
     "text": [
      "cos(x)\n"
     ]
    }
   ],
   "source": [
    "import numpy as np \n",
    "import sympy as sym #symbolic mathematics with python \n",
    "x = sym.symbols('x') # declaration of variable\n",
    "derivative1 = sym.diff(sym.sin(x) , x)\n",
    "print(derivative1)"
   ]
  },
  {
   "cell_type": "code",
   "execution_count": 16,
   "id": "1e093b74",
   "metadata": {},
   "outputs": [
    {
     "name": "stdout",
     "output_type": "stream",
     "text": [
      "2*x*cos(x**2)\n"
     ]
    }
   ],
   "source": [
    "import sympy as sym #symbolic mathematics with python \n",
    "x = sym.symbols('x') # declaration of variable\n",
    "derivative1 = sym.diff(sym.sin(x**2) , x)\n",
    "print(derivative1)"
   ]
  },
  {
   "cell_type": "code",
   "execution_count": 2,
   "id": "a0776615",
   "metadata": {},
   "outputs": [
    {
     "name": "stdout",
     "output_type": "stream",
     "text": [
      "20*x**3\n",
      "exp(x) + 2/x\n"
     ]
    }
   ],
   "source": [
    "#defining own function \n",
    "f = lambda x : x**5 \n",
    "derivative2 = sym.diff(f(x),  x ,2  ) # 2,is for 2nd derivative \n",
    "print(derivative2)\n",
    "\n",
    "g = sym.exp(x) + 2*sym.log(x)\n",
    "derivative3 = sym.diff(g , x )\n",
    "print(derivative3)"
   ]
  },
  {
   "cell_type": "markdown",
   "id": "dc88464a",
   "metadata": {},
   "source": [
    "paritials "
   ]
  },
  {
   "cell_type": "code",
   "execution_count": 2,
   "id": "e41ff635",
   "metadata": {},
   "outputs": [
    {
     "name": "stdout",
     "output_type": "stream",
     "text": [
      "3*x**2*y\n",
      "x**3 + 2*y\n",
      "6*z\n",
      "3*x**2\n"
     ]
    }
   ],
   "source": [
    "import sympy as sym\n",
    "x , y , z = sym.symbols('x, y, z')\n",
    "f1 = x**3*y + y**2 + z**3\n",
    "partial_x = sym.diff(f1, x , 1)\n",
    "partial_y = sym.diff(f1 , y ,)\n",
    "partial_z = sym.diff(f1 , z , z ) # second derivative\n",
    "mixdpar_xy = sym.diff(f1 , x , y ) # first with y then with x \n",
    "print(partial_x)\n",
    "print(partial_y)\n",
    "print(partial_z)\n",
    "print(mixdpar_xy)"
   ]
  },
  {
   "cell_type": "markdown",
   "id": "08f41e87",
   "metadata": {},
   "source": [
    "integration "
   ]
  },
  {
   "cell_type": "code",
   "execution_count": 5,
   "id": "8eea2a28",
   "metadata": {},
   "outputs": [],
   "source": [
    "# sym.integrate(func , var) #Indefinite \n",
    "#sym.integrate(func  , (var , lower_limit  , upper_limit)) #definate "
   ]
  },
  {
   "cell_type": "code",
   "execution_count": null,
   "id": "17edabec",
   "metadata": {},
   "outputs": [],
   "source": []
  },
  {
   "cell_type": "code",
   "execution_count": 7,
   "id": "00574d06",
   "metadata": {},
   "outputs": [
    {
     "name": "stdout",
     "output_type": "stream",
     "text": [
      "-cos(x)\n"
     ]
    },
    {
     "data": {
      "text/latex": [
       "$\\displaystyle 1$"
      ],
      "text/plain": [
       "1"
      ]
     },
     "execution_count": 7,
     "metadata": {},
     "output_type": "execute_result"
    }
   ],
   "source": [
    "integ = sym.integrate(sym.sin(x) ,x )\n",
    "print(integ)\n",
    "sym.integrate(sym.sin(x) ,( x , 0 , 1))\n",
    "\n",
    "f = sym.exp(-x)\n",
    "sym.integrate(f , (x , 0 ,sym.oo)) # sym.oo is the notation for infinity in sympy"
   ]
  },
  {
   "cell_type": "code",
   "execution_count": 3,
   "id": "fbab6d70",
   "metadata": {},
   "outputs": [
    {
     "data": {
      "text/latex": [
       "$\\displaystyle \\pi$"
      ],
      "text/plain": [
       "pi"
      ]
     },
     "execution_count": 3,
     "metadata": {},
     "output_type": "execute_result"
    }
   ],
   "source": [
    "# double integral \n",
    "sym.integrate(sym.exp(-x**2 - y**2) , (x , -sym.oo , sym.oo) , (y , -sym.oo , sym.oo))\n",
    "# double integral implies 2 limits "
   ]
  },
  {
   "cell_type": "code",
   "execution_count": 8,
   "id": "c0fecce5",
   "metadata": {},
   "outputs": [
    {
     "data": {
      "text/latex": [
       "$\\displaystyle 1$"
      ],
      "text/plain": [
       "1"
      ]
     },
     "execution_count": 8,
     "metadata": {},
     "output_type": "execute_result"
    }
   ],
   "source": [
    "# limits \n",
    "# sym.limit(function , variable , point)\n",
    "sym.limit(sym.exp(-x)  ,x , 0)"
   ]
  },
  {
   "cell_type": "code",
   "execution_count": 16,
   "id": "4a1045f3",
   "metadata": {},
   "outputs": [
    {
     "data": {
      "text/latex": [
       "$\\displaystyle 0$"
      ],
      "text/plain": [
       "0"
      ]
     },
     "execution_count": 16,
     "metadata": {},
     "output_type": "execute_result"
    }
   ],
   "source": [
    "exp  = lambda x : np.e**(-x) /x \n",
    "sym.limit(exp(x) , x,  sym.oo)"
   ]
  },
  {
   "cell_type": "markdown",
   "id": "8bd9aa49",
   "metadata": {},
   "source": [
    "SERIES EXPANSION "
   ]
  },
  {
   "cell_type": "code",
   "execution_count": 17,
   "id": "10d50e70",
   "metadata": {},
   "outputs": [],
   "source": [
    "# sym.series(function , symbol , initial point(default is 0) , order(the terms upto which the series is to be expanded defalult is 6)) "
   ]
  },
  {
   "cell_type": "code",
   "execution_count": 10,
   "id": "017e5175",
   "metadata": {},
   "outputs": [
    {
     "data": {
      "text/latex": [
       "$\\displaystyle e + e \\left(x - 1\\right) + \\frac{e \\left(x - 1\\right)^{2}}{2} + \\frac{e \\left(x - 1\\right)^{3}}{6} + \\frac{e \\left(x - 1\\right)^{4}}{24} + \\frac{e \\left(x - 1\\right)^{5}}{120} + O\\left(\\left(x - 1\\right)^{6}; x\\rightarrow 1\\right)$"
      ],
      "text/plain": [
       "E + E*(x - 1) + E*(x - 1)**2/2 + E*(x - 1)**3/6 + E*(x - 1)**4/24 + E*(x - 1)**5/120 + O((x - 1)**6, (x, 1))"
      ]
     },
     "execution_count": 10,
     "metadata": {},
     "output_type": "execute_result"
    }
   ],
   "source": [
    "sym.series(sym.cos(x)  , x , 0, 2) #only upto the the second term \n",
    "sym.series(sym.exp(x) ,  x  , 1 ,6) # upto 6th term\n",
    "# sym.series(sym.cos(x)**2 , x , 1 , 4)\n"
   ]
  }
 ],
 "metadata": {
  "kernelspec": {
   "display_name": "Python 3 (ipykernel)",
   "language": "python",
   "name": "python3"
  },
  "language_info": {
   "codemirror_mode": {
    "name": "ipython",
    "version": 3
   },
   "file_extension": ".py",
   "mimetype": "text/x-python",
   "name": "python",
   "nbconvert_exporter": "python",
   "pygments_lexer": "ipython3",
   "version": "3.9.12"
  }
 },
 "nbformat": 4,
 "nbformat_minor": 5
}
