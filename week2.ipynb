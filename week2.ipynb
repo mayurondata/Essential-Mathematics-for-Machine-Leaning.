{
 "cells": [
  {
   "attachments": {},
   "cell_type": "markdown",
   "id": "7ae97ea3",
   "metadata": {},
   "source": [
    "## Eigenvalues and eigenvectors"
   ]
  },
  {
   "attachments": {},
   "cell_type": "markdown",
   "id": "5be5c9ee",
   "metadata": {},
   "source": [
    "##### what are eigevalues and eigenvectors? "
   ]
  },
  {
   "attachments": {},
   "cell_type": "markdown",
   "id": "3a97e574",
   "metadata": {},
   "source": [
    "- formal defination\n",
    "\n",
    "let $A \\in \\mathbb{R}^{n \\times n}$ ,we say that a non-zero vector $v \\in \\mathbb{R}^n $ is an eigenvector of A corresponding to eigenvalue $\\lambda$(A Scalar) if \n",
    "$$ A\\mathbf{v} = \\lambda\\mathbf{v}\n",
    "$$ \n",
    "\n",
    "\n",
    "\n",
    "the above relation tell us that when the matrix(Linear transformation) 'A' is applied on v, then it scales v by amount $\\lambda$\n",
    "- Essentially we are trying to answer the question;  for a $n \\times n$ matrix A , are there any directions such that when the matrix operates on these directions\n",
    " ,they maintain their orientation save for multiplication by Scalars(positive or negative)? \n",
    "- if so such directions are called eigenvectors and the scale factors are called eigenvalues\n",
    "\n",
    "\n"
   ]
  },
  {
   "attachments": {},
   "cell_type": "markdown",
   "id": "97a8e550",
   "metadata": {},
   "source": [
    "### calculating eigenvalues and eigenvectors using python"
   ]
  },
  {
   "cell_type": "code",
   "execution_count": 1,
   "id": "e10bdd32",
   "metadata": {},
   "outputs": [
    {
     "name": "stdout",
     "output_type": "stream",
     "text": [
      "[[ 2 -2  3]\n",
      " [ 1  1  1]\n",
      " [ 1  3 -1]]\n"
     ]
    }
   ],
   "source": [
    "import numpy as np \n",
    "A = np.array([[2,  -2 , 3 ], [1, 1, 1] , [1,3,-1]]) # defining a matrix \n",
    "print(A)"
   ]
  },
  {
   "cell_type": "code",
   "execution_count": 4,
   "id": "fbc78cc2",
   "metadata": {},
   "outputs": [
    {
     "name": "stdout",
     "output_type": "stream",
     "text": [
      "[ 3.  1. -2.]\n"
     ]
    }
   ],
   "source": [
    "#Calculate eigenpairs(eigenvalues and eigenvectors) \n",
    "values , vectors = np.linalg.eig(A)\n",
    "print(values) # eigenvalues"
   ]
  },
  {
   "cell_type": "code",
   "execution_count": 8,
   "id": "739a8633",
   "metadata": {},
   "outputs": [
    {
     "name": "stdout",
     "output_type": "stream",
     "text": [
      "[[ 0.57735027  0.57735027 -0.61684937]\n",
      " [ 0.57735027 -0.57735027 -0.05607722]\n",
      " [ 0.57735027 -0.57735027  0.78508102]]\n"
     ]
    }
   ],
   "source": [
    "print(vectors) \n",
    "# these are the eigenvectors, eigenvector corresponding to eigenvalue 3 is the first column in the below matrix  "
   ]
  },
  {
   "cell_type": "code",
   "execution_count": 11,
   "id": "ea87fca1",
   "metadata": {},
   "outputs": [
    {
     "name": "stdout",
     "output_type": "stream",
     "text": [
      "[ 2.  1. -1.]\n",
      "[[1. 0. 0.]\n",
      " [0. 1. 0.]\n",
      " [0. 0. 1.]]\n"
     ]
    }
   ],
   "source": [
    "#-->note: eigenvalues of diagonal matrix are the diagonal elements \n",
    "diag = np.array([[2, 0 , 0] , [0 , 1, 0] , [0 , 0 , - 1]])\n",
    "values  , vectors = np.linalg.eig(diag)\n",
    "print(values) # an array of diagonal elements \n",
    "print(vectors)"
   ]
  },
  {
   "attachments": {},
   "cell_type": "markdown",
   "id": "910f4a72",
   "metadata": {},
   "source": [
    "### some uses of eigenvalues and eigenvectors\n",
    "\n",
    "1.**Linear transformations**: Eigenvalues and eigenvectors can be used to understand and analyze linear transformations in fields such as physics, engineering, and computer graphics. Eigenvectors provide a basis for the transformation, and eigenvalues determine the scaling factor of each eigenvector.\n",
    "\n",
    "2.**Principal component analysis (PCA)**: PCA is a technique used in data analysis to identify patterns in high-dimensional data. It uses eigenvalues and eigenvectors to transform the data into a new coordinate system where the data variance is maximized along the principal components.\n",
    "\n",
    "3.**Image compression**: Eigenvalues and eigenvectors can be used to compress images by representing the image as a linear combination of the most significant eigenvectors. This reduces the size of the image file while preserving the most important features."
   ]
  }
 ],
 "metadata": {
  "kernelspec": {
   "display_name": "Python 3 (ipykernel)",
   "language": "python",
   "name": "python3"
  },
  "language_info": {
   "codemirror_mode": {
    "name": "ipython",
    "version": 3
   },
   "file_extension": ".py",
   "mimetype": "text/x-python",
   "name": "python",
   "nbconvert_exporter": "python",
   "pygments_lexer": "ipython3",
   "version": "3.11.1"
  }
 },
 "nbformat": 4,
 "nbformat_minor": 5
}
