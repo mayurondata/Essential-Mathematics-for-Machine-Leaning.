{
 "cells": [
  {
   "cell_type": "code",
   "execution_count": 1,
   "id": "82649798",
   "metadata": {},
   "outputs": [],
   "source": [
    "import warnings \n",
    "warnings.filterwarnings(\"ignore\")"
   ]
  },
  {
   "cell_type": "markdown",
   "id": "00452241",
   "metadata": {},
   "source": [
    "PRINCIPAL COMPONANT ANALYSIS"
   ]
  },
  {
   "cell_type": "code",
   "execution_count": 2,
   "id": "2eafe8ca",
   "metadata": {},
   "outputs": [],
   "source": [
    "# Despite of availibility of high-end hardware (CPU AND GPU) , there are still various factors that cause \n",
    "# that cause performance bottlenecks while developing machine learning algorithms for classificaiton and\n",
    "# regression\n",
    "#--> One of such issue is related to large number of feature in the dataset \n",
    "# one of the solution to this problem is dimentionality reduction"
   ]
  },
  {
   "cell_type": "code",
   "execution_count": 2,
   "id": "86d6cc98",
   "metadata": {
    "scrolled": true
   },
   "outputs": [
    {
     "name": "stdout",
     "output_type": "stream",
     "text": [
      "[[ 1  5]\n",
      " [ 3  7]\n",
      " [ 5 11]\n",
      " [ 7 14]\n",
      " [ 9 15]\n",
      " [13 17]\n",
      " [20 18]\n",
      " [20 19]\n",
      " [21 21]\n",
      " [24 22]\n",
      " [26 26]]\n"
     ]
    }
   ],
   "source": [
    "import numpy as np \n",
    "import matplotlib.pyplot as plt\n",
    "import pandas as pd\n",
    "import seaborn as sns \n",
    "X = np.array([[1 , 3, 5,7 , 9 ,13 ,20 , 20, 21, 24 ,26],[5, 7 , 11, 14, 15, 17 , 18 ,19 ,21, 22, 26]])\n",
    "X = X.T #<-- the data matrix\n",
    "print(X)"
   ]
  },
  {
   "cell_type": "code",
   "execution_count": 4,
   "id": "736de603",
   "metadata": {},
   "outputs": [
    {
     "data": {
      "text/plain": [
       "<matplotlib.collections.PathCollection at 0x1a92ec08af0>"
      ]
     },
     "execution_count": 4,
     "metadata": {},
     "output_type": "execute_result"
    },
    {
     "data": {
      "image/png": "[encoded data removed]",
      "text/plain": [
       "<Figure size 432x288 with 1 Axes>"
      ]
     },
     "metadata": {
      "needs_background": "light"
     },
     "output_type": "display_data"
    }
   ],
   "source": [
    "# apply pca to the above 2d data and reduce it to 1 dimentional data\n",
    "plt.scatter(X[: , 0] ,X[: ,1] ) # plotting "
   ]
  },
  {
   "cell_type": "code",
   "execution_count": 5,
   "id": "83254a66",
   "metadata": {},
   "outputs": [],
   "source": [
    "# preprocessing (mean shifting)"
   ]
  },
  {
   "cell_type": "code",
   "execution_count": 6,
   "id": "9fbab9ad",
   "metadata": {},
   "outputs": [
    {
     "data": {
      "text/plain": [
       "<matplotlib.collections.PathCollection at 0x1a92ed0ba30>"
      ]
     },
     "execution_count": 6,
     "metadata": {},
     "output_type": "execute_result"
    },
    {
     "data": {
      "image/png": "[encoded data removed]",
      "text/plain": [
       "<Figure size 432x288 with 1 Axes>"
      ]
     },
     "metadata": {
      "needs_background": "light"
     },
     "output_type": "display_data"
    }
   ],
   "source": [
    "X_meand = X - np.mean(X , axis  =0 )\n",
    "plt.scatter(X_meand[: ,0] , X_meand[: ,1]) # plotting the mean shifted data\n",
    "# plt.scatter(X[: , 0 ] , X[:, 1]) # comparision"
   ]
  },
  {
   "cell_type": "code",
   "execution_count": 7,
   "id": "d17cf3b2",
   "metadata": {},
   "outputs": [],
   "source": [
    "# the covariance matrix"
   ]
  },
  {
   "cell_type": "code",
   "execution_count": 8,
   "id": "06374f3c",
   "metadata": {},
   "outputs": [
    {
     "name": "stdout",
     "output_type": "stream",
     "text": [
      "[[80.87272727 54.95454545]\n",
      " [54.95454545 40.69090909]]\n"
     ]
    }
   ],
   "source": [
    "C  = np.cov(X_meand , rowvar=False) \n",
    "print(C)"
   ]
  },
  {
   "cell_type": "code",
   "execution_count": 9,
   "id": "612b9d80",
   "metadata": {},
   "outputs": [],
   "source": [
    "# computing the eigenvalues and eigenvectors of the covariance matrix "
   ]
  },
  {
   "cell_type": "code",
   "execution_count": 10,
   "id": "a1155bc1",
   "metadata": {},
   "outputs": [
    {
     "name": "stdout",
     "output_type": "stream",
     "text": [
      "[119.29375452   2.26988184]\n",
      "[[ 0.81956216 -0.57299028]\n",
      " [ 0.57299028  0.81956216]]\n"
     ]
    }
   ],
   "source": [
    "eval, evec  = np.linalg.eig(C)\n",
    "print(eval)\n",
    "print(evec)"
   ]
  },
  {
   "cell_type": "code",
   "execution_count": 11,
   "id": "4eeaa1b1",
   "metadata": {},
   "outputs": [
    {
     "data": {
      "text/plain": [
       "array([[ 0.81956216, -0.57299028],\n",
       "       [ 0.57299028,  0.81956216]])"
      ]
     },
     "execution_count": 11,
     "metadata": {},
     "output_type": "execute_result"
    }
   ],
   "source": [
    "sorted_index = np.argsort(eval)[::-1] #  arg sort returns the indices that would sort the array\n",
    "sorted_eval  = eval[sorted_index]\n",
    "sorted_evec  = evec[: , sorted_index]\n",
    "sorted_evec # sorted eigenvectors in order of descending eigenvalues"
   ]
  },
  {
   "cell_type": "code",
   "execution_count": 12,
   "id": "ffc21b74",
   "metadata": {
    "scrolled": true
   },
   "outputs": [
    {
     "name": "stdout",
     "output_type": "stream",
     "text": [
      "[[0.81956216]\n",
      " [0.57299028]]\n"
     ]
    }
   ],
   "source": [
    "n = 1 # how many eigenvectors  we want \n",
    "evec_subset = sorted_evec[: , 0:n]\n",
    "print(evec_subset)"
   ]
  },
  {
   "cell_type": "code",
   "execution_count": 13,
   "id": "a840b2a2",
   "metadata": {},
   "outputs": [],
   "source": [
    "# transform the data "
   ]
  },
  {
   "cell_type": "code",
   "execution_count": 14,
   "id": "41b4e58d",
   "metadata": {},
   "outputs": [],
   "source": [
    "X_reduced = np.dot(evec_subset.transpose() , X.transpose()).transpose()"
   ]
  },
  {
   "cell_type": "code",
   "execution_count": 15,
   "id": "c1fd5f7c",
   "metadata": {
    "scrolled": true
   },
   "outputs": [
    {
     "name": "stdout",
     "output_type": "stream",
     "text": [
      "[[ 3.68451355]\n",
      " [ 6.46961844]\n",
      " [10.40070388]\n",
      " [13.75879904]\n",
      " [15.97091365]\n",
      " [20.39514286]\n",
      " [26.70506829]\n",
      " [27.27805857]\n",
      " [29.24360129]\n",
      " [32.27527806]\n",
      " [36.2063635 ]]\n"
     ]
    }
   ],
   "source": [
    "print(X_reduced) # one dimensional representation of the orignal data"
   ]
  },
  {
   "cell_type": "code",
   "execution_count": 16,
   "id": "d3ba418b",
   "metadata": {},
   "outputs": [],
   "source": [
    "# reconstruction of data from one eigenvector"
   ]
  },
  {
   "cell_type": "code",
   "execution_count": 17,
   "id": "4f538ba2",
   "metadata": {
    "scrolled": true
   },
   "outputs": [
    {
     "name": "stdout",
     "output_type": "stream",
     "text": [
      "[[ 3.0196879   2.11119044]\n",
      " [ 5.30225449  3.70702846]\n",
      " [ 8.52402338  5.9595022 ]\n",
      " [11.27619112  7.88365808]\n",
      " [13.08915656  9.15117825]\n",
      " [16.71508743 11.68621857]\n",
      " [21.88646357 15.3017445 ]\n",
      " [22.35606473 15.63006235]\n",
      " [23.96694917 16.75629922]\n",
      " [26.45159675 18.49342054]\n",
      " [29.67336564 20.74589428]]\n"
     ]
    }
   ],
   "source": [
    "X_recon = X_reduced.dot(evec_subset.T)\n",
    "print(X_recon)"
   ]
  },
  {
   "cell_type": "code",
   "execution_count": 18,
   "id": "0cecfb12",
   "metadata": {
    "scrolled": true
   },
   "outputs": [
    {
     "data": {
      "text/plain": [
       "<matplotlib.collections.PathCollection at 0x1a92f426f40>"
      ]
     },
     "execution_count": 18,
     "metadata": {},
     "output_type": "execute_result"
    },
    {
     "data": {
      "image/png": "[encoded data removed]",
      "text/plain": [
       "<Figure size 432x288 with 1 Axes>"
      ]
     },
     "metadata": {
      "needs_background": "light"
     },
     "output_type": "display_data"
    }
   ],
   "source": [
    "plt.scatter(X[: , 0] , X[: ,1])\n",
    "plt.scatter(X_recon[: ,0] , X_recon[: ,1])"
   ]
  },
  {
   "cell_type": "code",
   "execution_count": 19,
   "id": "6a2175dd",
   "metadata": {},
   "outputs": [],
   "source": [
    "#using direct functionality of sklearn"
   ]
  },
  {
   "cell_type": "code",
   "execution_count": 20,
   "id": "53cc6bf7",
   "metadata": {},
   "outputs": [],
   "source": [
    "from sklearn.decomposition import PCA\n",
    "pca = PCA(n_components = 1) # the arguement is how many dimensions we want "
   ]
  },
  {
   "cell_type": "code",
   "execution_count": 21,
   "id": "8bcef9af",
   "metadata": {
    "scrolled": false
   },
   "outputs": [
    {
     "data": {
      "text/plain": [
       "PCA(n_components=1)"
      ]
     },
     "execution_count": 21,
     "metadata": {},
     "output_type": "execute_result"
    }
   ],
   "source": [
    "pca.fit(X_meand)# input the shifted data ?, this method will learn the eigenvalues and eigenvectors"
   ]
  },
  {
   "cell_type": "code",
   "execution_count": 22,
   "id": "36fbe044",
   "metadata": {},
   "outputs": [],
   "source": [
    "Xr = pca.transform(X) # this method will project the data onto the reduced dimensional space "
   ]
  },
  {
   "cell_type": "code",
   "execution_count": 23,
   "id": "28e33cb1",
   "metadata": {},
   "outputs": [
    {
     "data": {
      "text/plain": [
       "array([[ -3.68451355],\n",
       "       [ -6.46961844],\n",
       "       [-10.40070388],\n",
       "       [-13.75879904],\n",
       "       [-15.97091365],\n",
       "       [-20.39514286],\n",
       "       [-26.70506829],\n",
       "       [-27.27805857],\n",
       "       [-29.24360129],\n",
       "       [-32.27527806],\n",
       "       [-36.2063635 ]])"
      ]
     },
     "execution_count": 23,
     "metadata": {},
     "output_type": "execute_result"
    }
   ],
   "source": [
    "Xr # one dimensional representation"
   ]
  },
  {
   "cell_type": "code",
   "execution_count": 24,
   "id": "62fc6086",
   "metadata": {
    "scrolled": true
   },
   "outputs": [
    {
     "data": {
      "text/plain": [
       "array([[-0.81956216, -0.57299028]])"
      ]
     },
     "execution_count": 24,
     "metadata": {},
     "output_type": "execute_result"
    }
   ],
   "source": [
    "pca.components_"
   ]
  },
  {
   "cell_type": "code",
   "execution_count": 25,
   "id": "fd9ec1d8",
   "metadata": {},
   "outputs": [
    {
     "data": {
      "text/plain": [
       "array([[ 3.0196879 ,  2.11119044],\n",
       "       [ 5.30225449,  3.70702846],\n",
       "       [ 8.52402338,  5.9595022 ],\n",
       "       [11.27619112,  7.88365808],\n",
       "       [13.08915656,  9.15117825],\n",
       "       [16.71508743, 11.68621857],\n",
       "       [21.88646357, 15.3017445 ],\n",
       "       [22.35606473, 15.63006235],\n",
       "       [23.96694917, 16.75629922],\n",
       "       [26.45159675, 18.49342054],\n",
       "       [29.67336564, 20.74589428]])"
      ]
     },
     "execution_count": 25,
     "metadata": {},
     "output_type": "execute_result"
    }
   ],
   "source": [
    "pca.components_.T.dot(Xr.T).T \n",
    "#reconstruction of the orignal dataset from one eigenvector"
   ]
  },
  {
   "cell_type": "code",
   "execution_count": 26,
   "id": "dfd5c76b",
   "metadata": {},
   "outputs": [],
   "source": [
    "# PCA on the iris dataset "
   ]
  },
  {
   "cell_type": "code",
   "execution_count": 27,
   "id": "c8288ba3",
   "metadata": {},
   "outputs": [],
   "source": [
    "from sklearn.datasets import load_iris\n",
    "iris  = pd.DataFrame(load_iris().data , columns=[load_iris().feature_names])\n",
    "iris_target = pd.DataFrame(load_iris().target , columns = [\"class\"])\n",
    "# the iris dataset is a 4d dataset \n",
    "# we want to reduce the dimension to 2"
   ]
  },
  {
   "cell_type": "code",
   "execution_count": 28,
   "id": "60cc58c6",
   "metadata": {
    "scrolled": true
   },
   "outputs": [
    {
     "data": {
      "text/html": [
       "<div>\n",
       "<style scoped>\n",
       "    .dataframe tbody tr th:only-of-type {\n",
       "        vertical-align: middle;\n",
       "    }\n",
       "\n",
       "    .dataframe tbody tr th {\n",
       "        vertical-align: top;\n",
       "    }\n",
       "\n",
       "    .dataframe thead tr th {\n",
       "        text-align: left;\n",
       "    }\n",
       "</style>\n",
       "<table border=\"1\" class=\"dataframe\">\n",
       "  <thead>\n",
       "    <tr>\n",
       "      <th></th>\n",
       "      <th>sepal length (cm)</th>\n",
       "      <th>sepal width (cm)</th>\n",
       "      <th>petal length (cm)</th>\n",
       "      <th>petal width (cm)</th>\n",
       "    </tr>\n",
       "  </thead>\n",
       "  <tbody>\n",
       "    <tr>\n",
       "      <th>0</th>\n",
       "      <td>5.1</td>\n",
       "      <td>3.5</td>\n",
       "      <td>1.4</td>\n",
       "      <td>0.2</td>\n",
       "    </tr>\n",
       "    <tr>\n",
       "      <th>1</th>\n",
       "      <td>4.9</td>\n",
       "      <td>3.0</td>\n",
       "      <td>1.4</td>\n",
       "      <td>0.2</td>\n",
       "    </tr>\n",
       "    <tr>\n",
       "      <th>2</th>\n",
       "      <td>4.7</td>\n",
       "      <td>3.2</td>\n",
       "      <td>1.3</td>\n",
       "      <td>0.2</td>\n",
       "    </tr>\n",
       "    <tr>\n",
       "      <th>3</th>\n",
       "      <td>4.6</td>\n",
       "      <td>3.1</td>\n",
       "      <td>1.5</td>\n",
       "      <td>0.2</td>\n",
       "    </tr>\n",
       "    <tr>\n",
       "      <th>4</th>\n",
       "      <td>5.0</td>\n",
       "      <td>3.6</td>\n",
       "      <td>1.4</td>\n",
       "      <td>0.2</td>\n",
       "    </tr>\n",
       "    <tr>\n",
       "      <th>...</th>\n",
       "      <td>...</td>\n",
       "      <td>...</td>\n",
       "      <td>...</td>\n",
       "      <td>...</td>\n",
       "    </tr>\n",
       "    <tr>\n",
       "      <th>145</th>\n",
       "      <td>6.7</td>\n",
       "      <td>3.0</td>\n",
       "      <td>5.2</td>\n",
       "      <td>2.3</td>\n",
       "    </tr>\n",
       "    <tr>\n",
       "      <th>146</th>\n",
       "      <td>6.3</td>\n",
       "      <td>2.5</td>\n",
       "      <td>5.0</td>\n",
       "      <td>1.9</td>\n",
       "    </tr>\n",
       "    <tr>\n",
       "      <th>147</th>\n",
       "      <td>6.5</td>\n",
       "      <td>3.0</td>\n",
       "      <td>5.2</td>\n",
       "      <td>2.0</td>\n",
       "    </tr>\n",
       "    <tr>\n",
       "      <th>148</th>\n",
       "      <td>6.2</td>\n",
       "      <td>3.4</td>\n",
       "      <td>5.4</td>\n",
       "      <td>2.3</td>\n",
       "    </tr>\n",
       "    <tr>\n",
       "      <th>149</th>\n",
       "      <td>5.9</td>\n",
       "      <td>3.0</td>\n",
       "      <td>5.1</td>\n",
       "      <td>1.8</td>\n",
       "    </tr>\n",
       "  </tbody>\n",
       "</table>\n",
       "<p>150 rows × 4 columns</p>\n",
       "</div>"
      ],
      "text/plain": [
       "    sepal length (cm) sepal width (cm) petal length (cm) petal width (cm)\n",
       "0                 5.1              3.5               1.4              0.2\n",
       "1                 4.9              3.0               1.4              0.2\n",
       "2                 4.7              3.2               1.3              0.2\n",
       "3                 4.6              3.1               1.5              0.2\n",
       "4                 5.0              3.6               1.4              0.2\n",
       "..                ...              ...               ...              ...\n",
       "145               6.7              3.0               5.2              2.3\n",
       "146               6.3              2.5               5.0              1.9\n",
       "147               6.5              3.0               5.2              2.0\n",
       "148               6.2              3.4               5.4              2.3\n",
       "149               5.9              3.0               5.1              1.8\n",
       "\n",
       "[150 rows x 4 columns]"
      ]
     },
     "execution_count": 28,
     "metadata": {},
     "output_type": "execute_result"
    }
   ],
   "source": [
    "iris"
   ]
  },
  {
   "cell_type": "code",
   "execution_count": 29,
   "id": "96ae5858",
   "metadata": {},
   "outputs": [],
   "source": [
    "from sklearn.decomposition import PCA\n",
    "pc_a = PCA(n_components=2)\n",
    "mean_shifted = np.array(iris)  - np.mean(np.array(iris) , axis =0 )\n",
    "pc_a.fit(mean_shifted)\n",
    "l =pc_a.transform(iris)"
   ]
  },
  {
   "cell_type": "code",
   "execution_count": 30,
   "id": "77519118",
   "metadata": {
    "scrolled": true
   },
   "outputs": [
    {
     "data": {
      "text/plain": [
       "<AxesSubplot:>"
      ]
     },
     "execution_count": 30,
     "metadata": {},
     "output_type": "execute_result"
    },
    {
     "data": {
      "image/png": "[encoded data removed]",
      "text/plain": [
       "<Figure size 432x288 with 1 Axes>"
      ]
     },
     "metadata": {
      "needs_background": "light"
     },
     "output_type": "display_data"
    }
   ],
   "source": [
    "sns.scatterplot(l[: ,0] ,l[:,1] , hue=iris_target[\"class\"], palette=  \"cividis\")\n",
    "# 2d representaion of the orignal 4d dataset"
   ]
  },
  {
   "cell_type": "markdown",
   "id": "65febe07",
   "metadata": {},
   "source": [
    "LINEAR DISCRIMINANT ANALYSIS"
   ]
  },
  {
   "cell_type": "code",
   "execution_count": 31,
   "id": "be0a29e0",
   "metadata": {},
   "outputs": [],
   "source": [
    "# computing the scatter matrices \"sw\"\n",
    "# this is the correct way of computing the within class scatter matrix"
   ]
  },
  {
   "cell_type": "code",
   "execution_count": 3,
   "id": "c50b1894",
   "metadata": {},
   "outputs": [],
   "source": [
    "c1  = np.matrix([[4,1] , [2 ,4] , [2 , 3 ] , [3 , 6] , [4 ,4]])\n",
    "c2  = np.matrix([[9,10] , [6 ,8] , [9 ,5 ] , [8,7] , [10 ,8]])"
   ]
  },
  {
   "cell_type": "code",
   "execution_count": 4,
   "id": "da416ef7",
   "metadata": {},
   "outputs": [
    {
     "data": {
      "text/plain": [
       "<matplotlib.collections.PathCollection at 0x27e9850d700>"
      ]
     },
     "execution_count": 4,
     "metadata": {},
     "output_type": "execute_result"
    },
    {
     "data": {
      "image/png": "[encoded data removed]",
      "text/plain": [
       "<Figure size 432x288 with 1 Axes>"
      ]
     },
     "metadata": {
      "needs_background": "light"
     },
     "output_type": "display_data"
    }
   ],
   "source": [
    "plt.scatter(np.array(c1[:,0]) ,np.array(c1[:,1]))\n",
    "plt.scatter(np.array(c2[:,0]) ,np.array(c2[:,1]))"
   ]
  },
  {
   "cell_type": "code",
   "execution_count": 5,
   "id": "62d2a335",
   "metadata": {},
   "outputs": [],
   "source": [
    "mean_vector1 = np.mean(c1 , axis=0) # mean vector for class1\n",
    "mean_vector2 = np.mean(c2 ,axis =0) # mean vector for class2 "
   ]
  },
  {
   "cell_type": "code",
   "execution_count": 6,
   "id": "24405f06",
   "metadata": {},
   "outputs": [],
   "source": [
    "a = np.zeros((2,2))\n",
    "for i in range(len(c1)):\n",
    "    a += np.dot(c1[i , :].T - mean_vector1.T , np.transpose(c1[i , :].T - mean_vector1.T))\n",
    "# variable a contains the class c1 scatter matrix "
   ]
  },
  {
   "cell_type": "code",
   "execution_count": 7,
   "id": "a5407fe9",
   "metadata": {},
   "outputs": [],
   "source": [
    "b = np.zeros((2,2))\n",
    "for i in range(len(c2)):\n",
    "    b += np.dot(c2[i , :].T - mean_vector2.T , np.transpose(c2[i , :].T - mean_vector2.T))\n",
    "# b contains the class c2 scatter matrix "
   ]
  },
  {
   "cell_type": "code",
   "execution_count": 9,
   "id": "26c4c22b",
   "metadata": {
    "scrolled": true
   },
   "outputs": [
    {
     "name": "stdout",
     "output_type": "stream",
     "text": [
      "[[13.2 -2.2]\n",
      " [-2.2 26.4]]\n",
      "[[-0.44046095]\n",
      " [-0.18822023]]\n"
     ]
    }
   ],
   "source": [
    "sw  = a + b  # sw is the within class scatter matrix \n",
    "inv_sw = np.linalg.inv(sw)\n",
    "opt = np.dot(inv_sw,mean_vector1.T -mean_vector2.T) # gives the  optimal projection direction\n",
    "print(sw)# the answer is s tallying with this approach\n",
    "print(opt)"
   ]
  },
  {
   "cell_type": "code",
   "execution_count": 14,
   "id": "0f554a2f",
   "metadata": {},
   "outputs": [
    {
     "data": {
      "text/plain": [
       "array([[13.2, -2.2],\n",
       "       [-2.2, 26.4]])"
      ]
     },
     "execution_count": 14,
     "metadata": {},
     "output_type": "execute_result"
    }
   ],
   "source": [
    "4 * np.cov(c1 ,rowvar=False) + 4 *np.cov(c2 ,rowvar =False) # and also this also\n",
    "# (n-1)*cov(c1)  + (n-1) * cov2"
   ]
  },
  {
   "cell_type": "code",
   "execution_count": 8,
   "id": "339d96d1",
   "metadata": {},
   "outputs": [],
   "source": [
    "# the lecture code snippets are below "
   ]
  },
  {
   "cell_type": "code",
   "execution_count": 39,
   "id": "1d82915d",
   "metadata": {},
   "outputs": [],
   "source": [
    "# lDA projects the data in a direction which provides maximum inter-class seperability"
   ]
  },
  {
   "cell_type": "markdown",
   "id": "ce083ac5",
   "metadata": {},
   "source": [
    "- another important thing for LDA  is that we can reduce the data only upto \"n-1\" dimensions\n",
    "- where n : no of classess in the dataset\n",
    "- ex: we have 100d dimensional data with 5 classess we can reduce the dimension of the data only upto 4     dimensions  and not 3, 2 ,1 and so on "
   ]
  },
  {
   "cell_type": "code",
   "execution_count": 40,
   "id": "b0671eda",
   "metadata": {},
   "outputs": [],
   "source": [
    "#utilities\n",
    "import numpy as np \n",
    "import matplotlib.pyplot as plt "
   ]
  },
  {
   "cell_type": "code",
   "execution_count": 41,
   "id": "965f76c0",
   "metadata": {},
   "outputs": [
    {
     "data": {
      "text/plain": [
       "<matplotlib.collections.PathCollection at 0x1a92fcc46d0>"
      ]
     },
     "execution_count": 41,
     "metadata": {},
     "output_type": "execute_result"
    },
    {
     "data": {
      "image/png": "[encoded data removed]",
      "text/plain": [
       "<Figure size 432x288 with 1 Axes>"
      ]
     },
     "metadata": {
      "needs_background": "light"
     },
     "output_type": "display_data"
    }
   ],
   "source": [
    "# define the dataset\n",
    "X = np.array([[0 ,1 , 2,3, 4, 5, 1,2, 3,3 ,5, 6 , 7, 8],[1, 2, 3, 3, 5,5,0,1,1,2,3,5,6,6]])\n",
    "y = np.array([0 , 0, 0, 0 , 0, 0 , 1, 1,1,1,1,1,1,1]) \n",
    "X = X.T\n",
    "plt.scatter(X[:, 0], X[:,1] ,c= y) # the c arguement stands for class information"
   ]
  },
  {
   "cell_type": "code",
   "execution_count": 42,
   "id": "f48f61a5",
   "metadata": {},
   "outputs": [],
   "source": [
    "# firt applying pca on this dataset\n",
    "# and check whether linear seperablity is maintained "
   ]
  },
  {
   "cell_type": "code",
   "execution_count": 43,
   "id": "6c22defb",
   "metadata": {},
   "outputs": [],
   "source": [
    "X_meanshift = X - np.mean(X , axis =0)\n",
    "from sklearn.decomposition import PCA\n",
    "pca = PCA(n_components=1)\n",
    "pca.fit(X_meanshift)\n",
    "Xrr = pca.transform(X) # one dimensional represention of the orignal data\n",
    "dir_pca = pca.components_.T"
   ]
  },
  {
   "cell_type": "code",
   "execution_count": 44,
   "id": "6a239754",
   "metadata": {},
   "outputs": [
    {
     "data": {
      "text/plain": [
       "array([[0.76976202],\n",
       "       [0.63833097]])"
      ]
     },
     "execution_count": 44,
     "metadata": {},
     "output_type": "execute_result"
    }
   ],
   "source": [
    "dir_pca"
   ]
  },
  {
   "cell_type": "code",
   "execution_count": 57,
   "id": "854c9d3f",
   "metadata": {},
   "outputs": [],
   "source": [
    "# reconstructing the data from only one eigenvector(projecting data on the direction given by PCA)"
   ]
  },
  {
   "cell_type": "code",
   "execution_count": 58,
   "id": "31a62c4f",
   "metadata": {},
   "outputs": [
    {
     "data": {
      "text/plain": [
       "<matplotlib.collections.PathCollection at 0x1a930e8f1f0>"
      ]
     },
     "execution_count": 58,
     "metadata": {},
     "output_type": "execute_result"
    },
    {
     "data": {
      "image/png": "[encoded data removed]",
      "text/plain": [
       "<Figure size 432x288 with 1 Axes>"
      ]
     },
     "metadata": {
      "needs_background": "light"
     },
     "output_type": "display_data"
    }
   ],
   "source": [
    "rec_Xrr = dir_pca.dot(Xrr.T).T # reconstructed data \n",
    "plt.scatter(X[:, 0], X[:,1] ,c= y , alpha = 0.6) \n",
    "plt.scatter(rec_Xrr[:,0] ,rec_Xrr[:,1] ,c =y , alpha = 1)\n",
    "# we can see that in 1 dimensional representation we are having mixed clusters , we cannot have linerly seperable \n",
    "# data after projection , PCA is not preserving linear seprability although the original data is linearly seperable"
   ]
  },
  {
   "cell_type": "code",
   "execution_count": 47,
   "id": "f8ae8b87",
   "metadata": {},
   "outputs": [],
   "source": [
    "# to get rid of the problem we will apply LDA"
   ]
  },
  {
   "cell_type": "code",
   "execution_count": 59,
   "id": "3e140d47",
   "metadata": {},
   "outputs": [],
   "source": [
    "# import utilities \n",
    "from sklearn.discriminant_analysis import LinearDiscriminantAnalysis\n",
    "lda = LinearDiscriminantAnalysis()\n",
    "X_lda = lda.fit_transform(X , y) # y is the class information"
   ]
  },
  {
   "cell_type": "code",
   "execution_count": 61,
   "id": "4be4f466",
   "metadata": {},
   "outputs": [
    {
     "data": {
      "text/plain": [
       "<matplotlib.collections.PathCollection at 0x1a931971580>"
      ]
     },
     "execution_count": 61,
     "metadata": {},
     "output_type": "execute_result"
    },
    {
     "data": {
      "image/png": "[encoded data removed]",
      "text/plain": [
       "<Figure size 432x288 with 1 Axes>"
      ]
     },
     "metadata": {
      "needs_background": "light"
     },
     "output_type": "display_data"
    }
   ],
   "source": [
    "plt.scatter(X[:, 0] , X[:,1], c = y)"
   ]
  },
  {
   "cell_type": "code",
   "execution_count": 49,
   "id": "5f60b579",
   "metadata": {},
   "outputs": [
    {
     "data": {
      "text/plain": [
       "<matplotlib.collections.PathCollection at 0x1a930d91310>"
      ]
     },
     "execution_count": 49,
     "metadata": {},
     "output_type": "execute_result"
    },
    {
     "data": {
      "image/png": "[encoded data removed]",
      "text/plain": [
       "<Figure size 432x288 with 1 Axes>"
      ]
     },
     "metadata": {
      "needs_background": "light"
     },
     "output_type": "display_data"
    }
   ],
   "source": [
    "a = lda.coef_.T.dot(X_lda.T).T\n",
    "plt.scatter(a[:,0] , a[:,1] , c =y)\n",
    "# we can see that by using the method of linear Discriminat Analysis,\n",
    "# the linear seperability property of original high dimensional dataset is preserved even after projection\n",
    "# so in one dimensional representation also the data is linearly seprable"
   ]
  },
  {
   "cell_type": "code",
   "execution_count": 120,
   "id": "da456275",
   "metadata": {},
   "outputs": [],
   "source": [
    "# working on benchmark dataset "
   ]
  },
  {
   "cell_type": "code",
   "execution_count": 74,
   "id": "ba60cc1d",
   "metadata": {},
   "outputs": [
    {
     "name": "stdout",
     "output_type": "stream",
     "text": [
      ".. _wine_dataset:\n",
      "\n",
      "Wine recognition dataset\n",
      "------------------------\n",
      "\n",
      "**Data Set Characteristics:**\n",
      "\n",
      "    :Number of Instances: 178 (50 in each of three classes)\n",
      "    :Number of Attributes: 13 numeric, predictive attributes and the class\n",
      "    :Attribute Information:\n",
      " \t\t- Alcohol\n",
      " \t\t- Malic acid\n",
      " \t\t- Ash\n",
      "\t\t- Alcalinity of ash  \n",
      " \t\t- Magnesium\n",
      "\t\t- Total phenols\n",
      " \t\t- Flavanoids\n",
      " \t\t- Nonflavanoid phenols\n",
      " \t\t- Proanthocyanins\n",
      "\t\t- Color intensity\n",
      " \t\t- Hue\n",
      " \t\t- OD280/OD315 of diluted wines\n",
      " \t\t- Proline\n",
      "\n",
      "    - class:\n",
      "            - class_0\n",
      "            - class_1\n",
      "            - class_2\n",
      "\t\t\n",
      "    :Summary Statistics:\n",
      "    \n",
      "    ============================= ==== ===== ======= =====\n",
      "                                   Min   Max   Mean     SD\n",
      "    ============================= ==== ===== ======= =====\n",
      "    Alcohol:                      11.0  14.8    13.0   0.8\n",
      "    Malic Acid:                   0.74  5.80    2.34  1.12\n",
      "    Ash:                          1.36  3.23    2.36  0.27\n",
      "    Alcalinity of Ash:            10.6  30.0    19.5   3.3\n",
      "    Magnesium:                    70.0 162.0    99.7  14.3\n",
      "    Total Phenols:                0.98  3.88    2.29  0.63\n",
      "    Flavanoids:                   0.34  5.08    2.03  1.00\n",
      "    Nonflavanoid Phenols:         0.13  0.66    0.36  0.12\n",
      "    Proanthocyanins:              0.41  3.58    1.59  0.57\n",
      "    Colour Intensity:              1.3  13.0     5.1   2.3\n",
      "    Hue:                          0.48  1.71    0.96  0.23\n",
      "    OD280/OD315 of diluted wines: 1.27  4.00    2.61  0.71\n",
      "    Proline:                       278  1680     746   315\n",
      "    ============================= ==== ===== ======= =====\n",
      "\n",
      "    :Missing Attribute Values: None\n",
      "    :Class Distribution: class_0 (59), class_1 (71), class_2 (48)\n",
      "    :Creator: R.A. Fisher\n",
      "    :Donor: Michael Marshall (MARSHALL%PLU@io.arc.nasa.gov)\n",
      "    :Date: July, 1988\n",
      "\n",
      "This is a copy of UCI ML Wine recognition datasets.\n",
      "https://archive.ics.uci.edu/ml/machine-learning-databases/wine/wine.data\n",
      "\n",
      "The data is the results of a chemical analysis of wines grown in the same\n",
      "region in Italy by three different cultivators. There are thirteen different\n",
      "measurements taken for different constituents found in the three types of\n",
      "wine.\n",
      "\n",
      "Original Owners: \n",
      "\n",
      "Forina, M. et al, PARVUS - \n",
      "An Extendible Package for Data Exploration, Classification and Correlation. \n",
      "Institute of Pharmaceutical and Food Analysis and Technologies,\n",
      "Via Brigata Salerno, 16147 Genoa, Italy.\n",
      "\n",
      "Citation:\n",
      "\n",
      "Lichman, M. (2013). UCI Machine Learning Repository\n",
      "[https://archive.ics.uci.edu/ml]. Irvine, CA: University of California,\n",
      "School of Information and Computer Science. \n",
      "\n",
      ".. topic:: References\n",
      "\n",
      "  (1) S. Aeberhard, D. Coomans and O. de Vel, \n",
      "  Comparison of Classifiers in High Dimensional Settings, \n",
      "  Tech. Rep. no. 92-02, (1992), Dept. of Computer Science and Dept. of  \n",
      "  Mathematics and Statistics, James Cook University of North Queensland. \n",
      "  (Also submitted to Technometrics). \n",
      "\n",
      "  The data was used with many others for comparing various \n",
      "  classifiers. The classes are separable, though only RDA \n",
      "  has achieved 100% correct classification. \n",
      "  (RDA : 100%, QDA 99.4%, LDA 98.9%, 1NN 96.1% (z-transformed data)) \n",
      "  (All results using the leave-one-out technique) \n",
      "\n",
      "  (2) S. Aeberhard, D. Coomans and O. de Vel, \n",
      "  \"THE CLASSIFICATION PERFORMANCE OF RDA\" \n",
      "  Tech. Rep. no. 92-01, (1992), Dept. of Computer Science and Dept. of \n",
      "  Mathematics and Statistics, James Cook University of North Queensland. \n",
      "  (Also submitted to Journal of Chemometrics).\n",
      "\n"
     ]
    }
   ],
   "source": [
    "from sklearn.datasets import load_wine\n",
    "import pandas as pd \n",
    "wine = load_wine()\n",
    "X=np.array(wine.data)\n",
    "y=np.array(wine.target)\n",
    "print(wine.DESCR)"
   ]
  },
  {
   "cell_type": "markdown",
   "id": "06f04464",
   "metadata": {},
   "source": [
    "- the wine dataset is 13 dimensional , we will reduce it to 2 dimensional dataset using LDA.\n",
    "- (2 is the maximum possible dimension we  can reduce the data upto)"
   ]
  },
  {
   "cell_type": "code",
   "execution_count": 121,
   "id": "735ef406",
   "metadata": {},
   "outputs": [
    {
     "data": {
      "text/plain": [
       "<matplotlib.collections.PathCollection at 0x1a935bc1280>"
      ]
     },
     "execution_count": 121,
     "metadata": {},
     "output_type": "execute_result"
    },
    {
     "data": {
      "image/png": "[encoded data removed]",
      "text/plain": [
       "<Figure size 432x288 with 1 Axes>"
      ]
     },
     "metadata": {
      "needs_background": "light"
     },
     "output_type": "display_data"
    }
   ],
   "source": [
    "# first applying PCA \n",
    "X_meanshifted = X - np.mean(X , axis =0)\n",
    "from sklearn.decomposition import PCA\n",
    "pca = PCA(n_components=2)\n",
    "pca.fit(X_meanshifted)\n",
    "z=pca.transform(X)# 2d representation using PCA\n",
    "# plotting the result\n",
    "plt.scatter(z[:, 0] , z[:, 1], c = y)\n",
    "# they are claiming that the data in original 13 dimensional spcace is linearly seperable . but after \n",
    "# projection it's no longer linearly seperable in 2d space."
   ]
  },
  {
   "cell_type": "code",
   "execution_count": 122,
   "id": "1c1893db",
   "metadata": {},
   "outputs": [
    {
     "data": {
      "text/plain": [
       "<matplotlib.collections.PathCollection at 0x1a934b3bd60>"
      ]
     },
     "execution_count": 122,
     "metadata": {},
     "output_type": "execute_result"
    },
    {
     "data": {
      "image/png": "[encoded data removed]",
      "text/plain": [
       "<Figure size 432x288 with 1 Axes>"
      ]
     },
     "metadata": {
      "needs_background": "light"
     },
     "output_type": "display_data"
    }
   ],
   "source": [
    "# apply LDA to overcome issue\n",
    "from sklearn.discriminant_analysis import LinearDiscriminantAnalysis\n",
    "lda = LinearDiscriminantAnalysis(n_components=2)\n",
    "lda.fit(X ,y)\n",
    "Z_lda = lda.transform(X ) # 2d representation using LDA\n",
    "# plotting the results\n",
    "plt.scatter(Z_lda[:, 0] ,Z_lda[:, 1],c =y)\n",
    "# we can see that by using LDA the linearseprablity property is preserved after projection onto 2d space "
   ]
  },
  {
   "cell_type": "code",
   "execution_count": 115,
   "id": "a53ddd16",
   "metadata": {},
   "outputs": [],
   "source": [
    "# classifying the 2d representation of data  "
   ]
  },
  {
   "cell_type": "code",
   "execution_count": 5,
   "id": "c11c9126",
   "metadata": {},
   "outputs": [
    {
     "ename": "NameError",
     "evalue": "name 'X' is not defined",
     "output_type": "error",
     "traceback": [
      "\u001b[1;31m---------------------------------------------------------------------------\u001b[0m",
      "\u001b[1;31mNameError\u001b[0m                                 Traceback (most recent call last)",
      "Input \u001b[1;32mIn [5]\u001b[0m, in \u001b[0;36m<cell line: 2>\u001b[1;34m()\u001b[0m\n\u001b[0;32m      1\u001b[0m \u001b[38;5;28;01mfrom\u001b[39;00m \u001b[38;5;21;01msklearn\u001b[39;00m\u001b[38;5;21;01m.\u001b[39;00m\u001b[38;5;21;01mmodel_selection\u001b[39;00m \u001b[38;5;28;01mimport\u001b[39;00m train_test_split\n\u001b[1;32m----> 2\u001b[0m X_train , X_test , y_train ,y_test \u001b[38;5;241m=\u001b[39m train_test_split(\u001b[43mX\u001b[49m , y  ,test_size \u001b[38;5;241m=\u001b[39m \u001b[38;5;241m0.3\u001b[39m)\n\u001b[0;32m      3\u001b[0m lda\u001b[38;5;241m.\u001b[39mfit(X_train , y_train)\n\u001b[0;32m      4\u001b[0m lda\u001b[38;5;241m.\u001b[39mpredict(X_test)\n",
      "\u001b[1;31mNameError\u001b[0m: name 'X' is not defined"
     ]
    }
   ],
   "source": [
    "from sklearn.model_selection import train_test_split\n",
    "X_train , X_test , y_train ,y_test = train_test_split(X , y  ,test_size = 0.3)\n",
    "lda.fit(X_train , y_train)\n",
    "yn = lda.predict(X_test)"
   ]
  },
  {
   "cell_type": "code",
   "execution_count": 3,
   "id": "969a2d8c",
   "metadata": {},
   "outputs": [
    {
     "ename": "NameError",
     "evalue": "name 'y_test' is not defined",
     "output_type": "error",
     "traceback": [
      "\u001b[1;31m---------------------------------------------------------------------------\u001b[0m",
      "\u001b[1;31mNameError\u001b[0m                                 Traceback (most recent call last)",
      "Input \u001b[1;32mIn [3]\u001b[0m, in \u001b[0;36m<cell line: 1>\u001b[1;34m()\u001b[0m\n\u001b[1;32m----> 1\u001b[0m \u001b[38;5;28mprint\u001b[39m(\u001b[43my_test\u001b[49m)\n\u001b[0;32m      2\u001b[0m \u001b[38;5;28mprint\u001b[39m(yn)\n\u001b[0;32m      3\u001b[0m \u001b[38;5;28mprint\u001b[39m(y_test\u001b[38;5;241m-\u001b[39myn)\n",
      "\u001b[1;31mNameError\u001b[0m: name 'y_test' is not defined"
     ]
    }
   ],
   "source": [
    "print(y_test)\n",
    "print(yn)\n",
    "print(y_test-yn) # ideally should be a sparse vector  "
   ]
  }
 ],
 "metadata": {
  "kernelspec": {
   "display_name": "Python 3 (ipykernel)",
   "language": "python",
   "name": "python3"
  },
  "language_info": {
   "codemirror_mode": {
    "name": "ipython",
    "version": 3
   },
   "file_extension": ".py",
   "mimetype": "text/x-python",
   "name": "python",
   "nbconvert_exporter": "python",
   "pygments_lexer": "ipython3",
   "version": "3.9.12"
  }
 },
 "nbformat": 4,
 "nbformat_minor": 5
}
